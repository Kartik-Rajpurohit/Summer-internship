{
  "nbformat": 4,
  "nbformat_minor": 0,
  "metadata": {
    "colab": {
      "provenance": [],
      "authorship_tag": "ABX9TyPP803/0lyzhZj31X9ASpJ7",
      "include_colab_link": true
    },
    "kernelspec": {
      "name": "python3",
      "display_name": "Python 3"
    },
    "language_info": {
      "name": "python"
    }
  },
  "cells": [
    {
      "cell_type": "markdown",
      "metadata": {
        "id": "view-in-github",
        "colab_type": "text"
      },
      "source": [
        "<a href=\"https://colab.research.google.com/github/Kartik-Rajpurohit/Summer-internship/blob/main/Untitled1.ipynb\" target=\"_parent\"><img src=\"https://colab.research.google.com/assets/colab-badge.svg\" alt=\"Open In Colab\"/></a>"
      ]
    },
    {
      "cell_type": "code",
      "execution_count": null,
      "metadata": {
        "colab": {
          "base_uri": "https://localhost:8080/"
        },
        "id": "D61OSO0JEF-a",
        "outputId": "529c2e8c-2b87-43d3-f133-27d295182960"
      },
      "outputs": [
        {
          "output_type": "stream",
          "name": "stdout",
          "text": [
            "1\n",
            "2\n",
            "3\n",
            "4\n",
            "---outside---\n"
          ]
        }
      ],
      "source": [
        "for i in range(1,11):\n",
        "  print(i)\n",
        "  if(i==4):\n",
        "    break\n",
        "print(\"---outside---\")"
      ]
    },
    {
      "cell_type": "code",
      "source": [
        "a=7\n",
        "b=9\n",
        "if(a>b):\n",
        "  greater=a\n",
        "else:\n",
        "  greater=b\n",
        "while(True):\n",
        "  if(greater%a==0 and greater%b==0):\n",
        "    print(\"lcm = \",greater)\n",
        "    break\n",
        "  else:\n",
        "    greater+=1\n"
      ],
      "metadata": {
        "colab": {
          "base_uri": "https://localhost:8080/"
        },
        "id": "xTAJf82DxMI9",
        "outputId": "45d60f17-0380-410a-cc5b-42927a9462eb"
      },
      "execution_count": null,
      "outputs": [
        {
          "output_type": "stream",
          "name": "stdout",
          "text": [
            "lcm =  63\n"
          ]
        }
      ]
    },
    {
      "cell_type": "code",
      "source": [
        "data = \"saras\"\n",
        "start = 0\n",
        "end = len(data) - 1\n",
        "a = 0\n",
        "\n",
        "while (start < end):\n",
        "    if data[start] != data[end]:\n",
        "        a = 1\n",
        "        break\n",
        "    start += 1\n",
        "    end -= 1\n",
        "if a == 1:\n",
        "    print(\"not palindrome\")\n",
        "else:\n",
        "    print(\"palindrome\")\n"
      ],
      "metadata": {
        "id": "6Qw8A-ewHHnl",
        "colab": {
          "base_uri": "https://localhost:8080/"
        },
        "outputId": "edd031b5-ffa8-4070-93db-668baebf62fe"
      },
      "execution_count": null,
      "outputs": [
        {
          "output_type": "stream",
          "name": "stdout",
          "text": [
            "palindrome\n"
          ]
        }
      ]
    },
    {
      "cell_type": "code",
      "source": [
        "a=[1,2,3,4,5,6,7,8,9]\n",
        "max=0\n",
        "for i in a:\n",
        "    if i>max:\n",
        "        max=i\n",
        "print(max)"
      ],
      "metadata": {
        "colab": {
          "base_uri": "https://localhost:8080/"
        },
        "id": "6dY58ODj4Np7",
        "outputId": "52c8baaa-5778-42b0-bbc5-592369c5a261"
      },
      "execution_count": null,
      "outputs": [
        {
          "output_type": "stream",
          "name": "stdout",
          "text": [
            "9\n"
          ]
        }
      ]
    },
    {
      "cell_type": "code",
      "source": [
        "for i in range(1,4):\n",
        "  print(\"---student\",i)\n",
        "  for j in range(1,i+1):\n",
        "    print(\"good night\",j)"
      ],
      "metadata": {
        "colab": {
          "base_uri": "https://localhost:8080/"
        },
        "id": "AjY13QRo-gTz",
        "outputId": "47437057-1b8c-4a10-fbb1-97d1e1452625"
      },
      "execution_count": null,
      "outputs": [
        {
          "output_type": "stream",
          "name": "stdout",
          "text": [
            "---student 1\n",
            "good night 1\n",
            "---student 2\n",
            "good night 1\n",
            "good night 2\n",
            "---student 3\n",
            "good night 1\n",
            "good night 2\n",
            "good night 3\n"
          ]
        }
      ]
    },
    {
      "cell_type": "code",
      "source": [
        "mylist=[50,1,10,40,2,4,12,8,24,7]\n",
        "for i in range(0,len(mylist)):\n",
        "  for j in range (i+1,len(mylist)):\n",
        "    if(mylist[i] + mylist[j] == 9):\n",
        "      print(\"Sum of two values => \",mylist[i] , mylist[j])"
      ],
      "metadata": {
        "id": "72zxJ3vJK6h5",
        "colab": {
          "base_uri": "https://localhost:8080/"
        },
        "outputId": "308ee35b-4377-466e-c783-0a9277c99b5a"
      },
      "execution_count": null,
      "outputs": [
        {
          "output_type": "stream",
          "name": "stdout",
          "text": [
            "Sum of two values =>  1 8\n",
            "Sum of two values =>  2 7\n"
          ]
        }
      ]
    },
    {
      "cell_type": "code",
      "source": [
        "mytuple=(10,20,30,40,\"abc\")\n",
        "mytuple.count(10)\n",
        "mytuple.index(\"abc\")"
      ],
      "metadata": {
        "colab": {
          "base_uri": "https://localhost:8080/"
        },
        "id": "ZrNFyOE47z-c",
        "outputId": "3f2938c2-303b-486b-e581-a34c6d8bee47"
      },
      "execution_count": null,
      "outputs": [
        {
          "output_type": "execute_result",
          "data": {
            "text/plain": [
              "4"
            ]
          },
          "metadata": {},
          "execution_count": 4
        }
      ]
    },
    {
      "cell_type": "code",
      "source": [
        "for i in range(1,5):\n",
        "  print(\"Student\",i)\n",
        "  for j in range(1,7):\n",
        "    print(\"---Subject\",j)\n",
        "  print(\"###TEA BREAK ###\")"
      ],
      "metadata": {
        "colab": {
          "base_uri": "https://localhost:8080/"
        },
        "id": "gq236pnV8Q_o",
        "outputId": "76851d62-952e-4fac-9f8d-c40a0d6a68c8"
      },
      "execution_count": null,
      "outputs": [
        {
          "output_type": "stream",
          "name": "stdout",
          "text": [
            "Student 1\n",
            "---Subject 1\n",
            "---Subject 2\n",
            "---Subject 3\n",
            "---Subject 4\n",
            "---Subject 5\n",
            "---Subject 6\n",
            "###TEA BREAK ###\n",
            "Student 2\n",
            "---Subject 1\n",
            "---Subject 2\n",
            "---Subject 3\n",
            "---Subject 4\n",
            "---Subject 5\n",
            "---Subject 6\n",
            "###TEA BREAK ###\n",
            "Student 3\n",
            "---Subject 1\n",
            "---Subject 2\n",
            "---Subject 3\n",
            "---Subject 4\n",
            "---Subject 5\n",
            "---Subject 6\n",
            "###TEA BREAK ###\n",
            "Student 4\n",
            "---Subject 1\n",
            "---Subject 2\n",
            "---Subject 3\n",
            "---Subject 4\n",
            "---Subject 5\n",
            "---Subject 6\n",
            "###TEA BREAK ###\n"
          ]
        }
      ]
    },
    {
      "cell_type": "code",
      "source": [
        "for i in range(1,4):\n",
        "  for j in range(1,i+1):\n",
        "    print(\"*\",end =\" \")\n",
        "  print(\" \")"
      ],
      "metadata": {
        "colab": {
          "base_uri": "https://localhost:8080/"
        },
        "id": "F4fGxeXn-Sml",
        "outputId": "21ed7424-b1f8-42d0-92d8-34504d8f79f0"
      },
      "execution_count": null,
      "outputs": [
        {
          "output_type": "stream",
          "name": "stdout",
          "text": [
            "*  \n",
            "* *  \n",
            "* * *  \n"
          ]
        }
      ]
    },
    {
      "cell_type": "code",
      "source": [
        "for i in range(1,5):\n",
        "  for j in range(1,7-i):\n",
        "    print(\"*\",end =\" \")\n",
        "  print(\" \")"
      ],
      "metadata": {
        "colab": {
          "base_uri": "https://localhost:8080/"
        },
        "id": "E773QsvVBRoS",
        "outputId": "cd71a2a3-bbdb-4203-a23e-358662e7fac5"
      },
      "execution_count": null,
      "outputs": [
        {
          "output_type": "stream",
          "name": "stdout",
          "text": [
            "* * * * *  \n",
            "* * * *  \n",
            "* * *  \n",
            "* *  \n"
          ]
        }
      ]
    },
    {
      "cell_type": "code",
      "source": [
        "for i in range(1,4):\n",
        "  print(i,i,i,i)"
      ],
      "metadata": {
        "colab": {
          "base_uri": "https://localhost:8080/"
        },
        "id": "5gOLf2GNBm3z",
        "outputId": "8ca99487-4a43-47d3-a060-6194aa2946b0"
      },
      "execution_count": null,
      "outputs": [
        {
          "output_type": "stream",
          "name": "stdout",
          "text": [
            "1 1 1 1\n",
            "2 2 2 2\n",
            "3 3 3 3\n"
          ]
        }
      ]
    },
    {
      "cell_type": "code",
      "source": [
        "for i in range(4,9,2):\n",
        "  print(i,i,i,i)"
      ],
      "metadata": {
        "colab": {
          "base_uri": "https://localhost:8080/"
        },
        "id": "tKaEZw70CCbw",
        "outputId": "01abdb44-876a-4f1b-9545-5d052f51bedb"
      },
      "execution_count": null,
      "outputs": [
        {
          "output_type": "stream",
          "name": "stdout",
          "text": [
            "4 4 4 4\n",
            "6 6 6 6\n",
            "8 8 8 8\n"
          ]
        }
      ]
    },
    {
      "cell_type": "code",
      "source": [
        "for i in range(0,3):\n",
        "  for j in range(1,5):\n",
        "    print(j,end=\" \")\n",
        "  print(\" \")"
      ],
      "metadata": {
        "colab": {
          "base_uri": "https://localhost:8080/"
        },
        "id": "aKZfBnsLCLR6",
        "outputId": "300fbec4-4d28-4529-aeb8-583535024246"
      },
      "execution_count": null,
      "outputs": [
        {
          "output_type": "stream",
          "name": "stdout",
          "text": [
            "1 2 3 4  \n",
            "1 2 3 4  \n",
            "1 2 3 4  \n"
          ]
        }
      ]
    },
    {
      "cell_type": "code",
      "source": [
        "for i in range(0,4):\n",
        "  for j in range(4,8):\n",
        "    print(j,end=\" \")\n",
        "  print(\" \")"
      ],
      "metadata": {
        "colab": {
          "base_uri": "https://localhost:8080/"
        },
        "id": "qG4Hhe4TEVNu",
        "outputId": "f0f47555-c850-4050-fbd2-9ae095738999"
      },
      "execution_count": null,
      "outputs": [
        {
          "output_type": "stream",
          "name": "stdout",
          "text": [
            "4 5 6 7  \n",
            "4 5 6 7  \n",
            "4 5 6 7  \n",
            "4 5 6 7  \n"
          ]
        }
      ]
    },
    {
      "cell_type": "code",
      "source": [
        "for i in range(1,5):\n",
        "  for j in range(1,i+1):\n",
        "    print(\"*\",end=\" \")\n",
        "  print(\" \")"
      ],
      "metadata": {
        "colab": {
          "base_uri": "https://localhost:8080/"
        },
        "id": "OmUgTLasEdWT",
        "outputId": "5e13faf0-ba53-4f4b-960a-e9f6d9453b44"
      },
      "execution_count": null,
      "outputs": [
        {
          "output_type": "stream",
          "name": "stdout",
          "text": [
            "*  \n",
            "* *  \n",
            "* * *  \n",
            "* * * *  \n"
          ]
        }
      ]
    },
    {
      "cell_type": "code",
      "source": [
        "for i in range(1,5):\n",
        "  for j in range(1,i+1):\n",
        "    print(j,end=\" \")\n",
        "  print(\" \")"
      ],
      "metadata": {
        "colab": {
          "base_uri": "https://localhost:8080/"
        },
        "id": "EhA1ApO3Fbta",
        "outputId": "73fae4fb-6d5e-4cee-c722-f0d8f0be16a4"
      },
      "execution_count": null,
      "outputs": [
        {
          "output_type": "stream",
          "name": "stdout",
          "text": [
            "1  \n",
            "1 2  \n",
            "1 2 3  \n",
            "1 2 3 4  \n"
          ]
        }
      ]
    },
    {
      "cell_type": "code",
      "source": [
        "for i in range(4,8):\n",
        "  for j in range(4,i+1):\n",
        "    print(j,end=\" \")\n",
        "  print(\" \")"
      ],
      "metadata": {
        "colab": {
          "base_uri": "https://localhost:8080/"
        },
        "id": "ehysV2RCFmmi",
        "outputId": "a6a51344-99d0-4bd0-d9ad-31e67a16649e"
      },
      "execution_count": null,
      "outputs": [
        {
          "output_type": "stream",
          "name": "stdout",
          "text": [
            "4  \n",
            "4 5  \n",
            "4 5 6  \n",
            "4 5 6 7  \n"
          ]
        }
      ]
    },
    {
      "cell_type": "code",
      "source": [
        "x=1\n",
        "for i in range(1,5):\n",
        "  for j in range(1,i+1):\n",
        "    print(x,end=\" \")\n",
        "    x+=1\n",
        "  print(\" \")"
      ],
      "metadata": {
        "colab": {
          "base_uri": "https://localhost:8080/"
        },
        "id": "yK5fTTW7Fui5",
        "outputId": "949fe505-d31d-4d10-f2ad-174882462509"
      },
      "execution_count": null,
      "outputs": [
        {
          "output_type": "stream",
          "name": "stdout",
          "text": [
            "1  \n",
            "2 3  \n",
            "4 5 6  \n",
            "7 8 9 10  \n"
          ]
        }
      ]
    },
    {
      "cell_type": "code",
      "source": [
        "for i in range(1,5):\n",
        "  for j in range(1,5-i):\n",
        "    print(\"-\",end=\" \")\n",
        "  for j in range(1,i+1):\n",
        "    print(\"*\",end=\" \")\n",
        "  print(\" \")\n",
        "  print(\" \")"
      ],
      "metadata": {
        "colab": {
          "base_uri": "https://localhost:8080/"
        },
        "id": "B0xgM4wbIK5W",
        "outputId": "b37c79c5-9ea0-45dd-9220-8938ad5d18b7"
      },
      "execution_count": null,
      "outputs": [
        {
          "output_type": "stream",
          "name": "stdout",
          "text": [
            "- - - *  \n",
            " \n",
            "- - * *  \n",
            " \n",
            "- * * *  \n",
            " \n",
            "* * * *  \n",
            " \n"
          ]
        }
      ]
    },
    {
      "cell_type": "code",
      "source": [
        "for i in range(0,5):\n",
        "  for j in range(1,i+1):\n",
        "    print(\"-\",end=\" \")\n",
        "  for j in range(1,5-i):\n",
        "     print(\"*\",end=\" \")\n",
        "  print(\" \")"
      ],
      "metadata": {
        "colab": {
          "base_uri": "https://localhost:8080/"
        },
        "id": "VY4oEtZFIuv4",
        "outputId": "bd760dc1-f3de-4999-affb-df3506974c5a"
      },
      "execution_count": null,
      "outputs": [
        {
          "output_type": "stream",
          "name": "stdout",
          "text": [
            "* * * *  \n",
            "- * * *  \n",
            "- - * *  \n",
            "- - - *  \n",
            "- - - -  \n"
          ]
        }
      ]
    },
    {
      "cell_type": "code",
      "source": [
        "data = \"Hey Kartik\"\n",
        "mydictionary = {}\n",
        "\n",
        "for char in data:\n",
        "    if char in \"aeiou\":\n",
        "        if char not in mydictionary:\n",
        "            mydictionary[char] = 1\n",
        "        else:\n",
        "            mydictionary[char] += 1\n",
        "\n",
        "print(mydictionary.get('a', 0))\n"
      ],
      "metadata": {
        "colab": {
          "base_uri": "https://localhost:8080/"
        },
        "id": "Aa81GFhqECdt",
        "outputId": "f0d3a6a3-91a9-429e-df1d-2b726484ec4a"
      },
      "execution_count": null,
      "outputs": [
        {
          "output_type": "stream",
          "name": "stdout",
          "text": [
            "1\n"
          ]
        }
      ]
    },
    {
      "cell_type": "code",
      "source": [
        "def pat(num):\n",
        "  for i in range(0,num):\n",
        "    for j in range(1,i+1):\n",
        "      print(\"-\",end=\" \")\n",
        "    for j in range(1,num+1-i):\n",
        "      print(j,end=\" \")\n",
        "    print(\" \")\n",
        "pat(4)\n"
      ],
      "metadata": {
        "colab": {
          "base_uri": "https://localhost:8080/"
        },
        "id": "yxUDvm-dO4sa",
        "outputId": "98324ce5-05bf-4c98-dd7d-cc57361f8175"
      },
      "execution_count": null,
      "outputs": [
        {
          "output_type": "stream",
          "name": "stdout",
          "text": [
            "1 2 3 4  \n",
            "- 1 2 3  \n",
            "- - 1 2  \n",
            "- - - 1  \n"
          ]
        }
      ]
    },
    {
      "cell_type": "code",
      "source": [],
      "metadata": {
        "id": "aiFIOfmRUKxy"
      },
      "execution_count": null,
      "outputs": []
    }
  ]
}